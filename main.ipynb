{
 "cells": [
  {
   "cell_type": "code",
   "execution_count": 1,
   "metadata": {},
   "outputs": [],
   "source": [
    "import os\n",
    "import re\n",
    "import pdfplumber as pp\n",
    "import pandas as pd"
   ]
  },
  {
   "cell_type": "code",
   "execution_count": 2,
   "metadata": {},
   "outputs": [],
   "source": [
    "def detect_pattern(lines):\n",
    "    for i, line in enumerate(lines):\n",
    "        if re.match(r\"\\d{2}-[A-Za-z]{3}-\\d{4}\", line.strip()):\n",
    "            if i + 1 < len(lines):\n",
    "                next_line = lines[i + 1]\n",
    "                if re.findall(r\"[\\d,]+\\.\\d{2}\", next_line) and re.search(r\"(Dr|Cr)$\", next_line):\n",
    "                    return \"PatternA\"\n",
    "    return \"Unknown\"\n"
   ]
  },
  {
   "cell_type": "code",
   "execution_count": 3,
   "metadata": {},
   "outputs": [],
   "source": [
    "def parse_pattern_a(lines):\n",
    "    data = []\n",
    "    i = 0\n",
    "    while i < len(lines) - 1:\n",
    "        line1 = lines[i].strip()\n",
    "        line2 = lines[i + 1].strip()\n",
    "\n",
    "        if re.match(r\"\\d{2}-[A-Za-z]{3}-\\d{4}\", line1):\n",
    "            date = re.match(r\"(\\d{2}-[A-Za-z]{3}-\\d{4})\", line1).group(1)\n",
    "            description = line1[len(date):].strip()\n",
    "\n",
    "            amounts = re.findall(r\"[\\d,]+\\.\\d{2}\", line2)\n",
    "            drcr_match = re.search(r\"(Dr|Cr)$\", line2)\n",
    "            drcr = drcr_match.group(1) if drcr_match else \"\"\n",
    "\n",
    "            if len(amounts) == 2:\n",
    "                amount = amounts[0]\n",
    "                balance = amounts[1]\n",
    "            else:\n",
    "                amount = balance = \"\"\n",
    "\n",
    "            data.append({\n",
    "                \"Date\": date,\n",
    "                \"Description\": description,\n",
    "                \"Amount\": amount.replace(\",\", \"\"),\n",
    "                \"Balance\": balance.replace(\",\", \"\"),\n",
    "                \"Type\": drcr\n",
    "            })\n",
    "\n",
    "            i += 2\n",
    "        else:\n",
    "            i += 1\n",
    "    return data"
   ]
  },
  {
   "cell_type": "code",
   "execution_count": 4,
   "metadata": {},
   "outputs": [],
   "source": [
    "def extract_text_lines(pdf_path):\n",
    "    with pp.open(pdf_path) as pdf:\n",
    "        text = \"\\n\".join(page.extract_text() for page in pdf.pages if page.extract_text())\n",
    "    return text.split(\"\\n\")"
   ]
  },
  {
   "cell_type": "code",
   "execution_count": null,
   "metadata": {},
   "outputs": [],
   "source": [
    "def main():\n",
    "    pdf_path = \"test.pdf\"\n",
    "\n",
    "    lines = extract_text_lines(pdf_path)\n",
    "    pattern = detect_pattern(lines)\n",
    "\n",
    "    if pattern == \"PatternA\":\n",
    "        data = parse_pattern_a(lines)\n",
    "        df = pd.DataFrame(data)\n",
    "        output_path = os.path.splitext(pdf_path)[0] + \"_parsed.xlsx\"\n",
    "        df.to_excel(output_path, index=False)\n",
    "        print(f\"Extracted data saved to: {output_path}\")\n",
    "    else:\n",
    "        print(\"Unknown statement format. Please provide a sample to train the parser.\")\n"
   ]
  },
  {
   "cell_type": "code",
   "execution_count": 6,
   "metadata": {},
   "outputs": [
    {
     "name": "stderr",
     "output_type": "stream",
     "text": [
      "CropBox missing from /Page, defaulting to MediaBox\n",
      "CropBox missing from /Page, defaulting to MediaBox\n",
      "CropBox missing from /Page, defaulting to MediaBox\n",
      "CropBox missing from /Page, defaulting to MediaBox\n",
      "CropBox missing from /Page, defaulting to MediaBox\n",
      "CropBox missing from /Page, defaulting to MediaBox\n",
      "CropBox missing from /Page, defaulting to MediaBox\n",
      "CropBox missing from /Page, defaulting to MediaBox\n",
      "CropBox missing from /Page, defaulting to MediaBox\n",
      "CropBox missing from /Page, defaulting to MediaBox\n",
      "CropBox missing from /Page, defaulting to MediaBox\n",
      "CropBox missing from /Page, defaulting to MediaBox\n",
      "CropBox missing from /Page, defaulting to MediaBox\n",
      "CropBox missing from /Page, defaulting to MediaBox\n",
      "CropBox missing from /Page, defaulting to MediaBox\n",
      "CropBox missing from /Page, defaulting to MediaBox\n"
     ]
    },
    {
     "name": "stdout",
     "output_type": "stream",
     "text": [
      "✅ Extracted data saved to: test2_parsed.xlsx\n"
     ]
    }
   ],
   "source": [
    "if __name__ == \"__main__\":\n",
    "    main()"
   ]
  }
 ],
 "metadata": {
  "kernelspec": {
   "display_name": "Python 3",
   "language": "python",
   "name": "python3"
  },
  "language_info": {
   "codemirror_mode": {
    "name": "ipython",
    "version": 3
   },
   "file_extension": ".py",
   "mimetype": "text/x-python",
   "name": "python",
   "nbconvert_exporter": "python",
   "pygments_lexer": "ipython3",
   "version": "3.13.0"
  }
 },
 "nbformat": 4,
 "nbformat_minor": 2
}
